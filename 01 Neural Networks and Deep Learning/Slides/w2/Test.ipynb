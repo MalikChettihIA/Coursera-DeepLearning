{
 "cells": [
  {
   "cell_type": "code",
   "execution_count": 3,
   "metadata": {},
   "outputs": [
    {
     "name": "stdout",
     "output_type": "stream",
     "text": [
      "(3, 3)\n"
     ]
    }
   ],
   "source": [
    "import numpy as np\n",
    "\n",
    "a = np.random.randn(1,3)\n",
    "b = np.random.randn(3,3)\n",
    "c = a*b\n",
    "print(c.shape)"
   ]
  },
  {
   "cell_type": "code",
   "execution_count": 11,
   "metadata": {},
   "outputs": [
    {
     "name": "stdout",
     "output_type": "stream",
     "text": [
      "(3, 3)\n"
     ]
    }
   ],
   "source": [
    "a = np.random.randn(1,3)\n",
    "b = np.random.randn(3,3)\n",
    "c = a*b\n",
    "print(c.shape)"
   ]
  },
  {
   "cell_type": "code",
   "execution_count": 4,
   "metadata": {},
   "outputs": [
    {
     "name": "stdout",
     "output_type": "stream",
     "text": [
      "[[ 5  5]\n",
      " [ 5 10]]\n"
     ]
    }
   ],
   "source": [
    "import numpy as np\n",
    "\n",
    "x = np.array([[2, 1], [1, 3]])\n",
    "b = np.dot(x, x)\n",
    "print(b)\n"
   ]
  },
  {
   "cell_type": "code",
   "execution_count": 2,
   "metadata": {},
   "outputs": [
    {
     "name": "stdout",
     "output_type": "stream",
     "text": [
      "(2, 2, 1)\n"
     ]
    }
   ],
   "source": [
    "import numpy as np\n",
    "\n",
    "x = np.array([[[1], [2]], [[3], [4]]])\n",
    "print(x.shape)"
   ]
  },
  {
   "cell_type": "code",
   "execution_count": 12,
   "metadata": {},
   "outputs": [
    {
     "name": "stdout",
     "output_type": "stream",
     "text": [
      "[[ 0.36033333  2.04193004  0.20376758]\n",
      " [-0.83023173  0.91073644 -0.82630909]\n",
      " [-0.27740347 -1.77695348 -0.83287353]\n",
      " [ 0.4458747  -0.44598371  1.21790673]]\n",
      "[[0.12984011 4.16947828 0.04152123]\n",
      " [0.68928473 0.82944086 0.68278671]\n",
      " [0.07695268 3.15756365 0.69367832]\n",
      " [0.19880425 0.19890147 1.4832968 ]]\n"
     ]
    }
   ],
   "source": [
    "a = np.random.randn(4,3)\n",
    "b = np.random.randn(4,1)\n",
    "\n",
    "print(a)\n",
    "d = a**2\n",
    "print(d)"
   ]
  },
  {
   "cell_type": "code",
   "execution_count": 8,
   "metadata": {},
   "outputs": [
    {
     "name": "stdout",
     "output_type": "stream",
     "text": [
      "[[2 1]\n",
      " [1 3]\n",
      " [1 3]]\n",
      "[[2 1 1]\n",
      " [1 3 3]]\n"
     ]
    }
   ],
   "source": [
    "a = np.array([[2, 1], [1, 3],  [1, 3]])\n",
    "\n",
    "print(a)\n",
    "\n",
    "print(a.T)"
   ]
  }
 ],
 "metadata": {
  "kernelspec": {
   "display_name": "emiasd-deeplearning-env",
   "language": "python",
   "name": "python3"
  },
  "language_info": {
   "codemirror_mode": {
    "name": "ipython",
    "version": 3
   },
   "file_extension": ".py",
   "mimetype": "text/x-python",
   "name": "python",
   "nbconvert_exporter": "python",
   "pygments_lexer": "ipython3",
   "version": "3.10.16"
  }
 },
 "nbformat": 4,
 "nbformat_minor": 2
}
